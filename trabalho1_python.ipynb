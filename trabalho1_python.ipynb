{
  "nbformat": 4,
  "nbformat_minor": 0,
  "metadata": {
    "colab": {
      "provenance": [],
      "authorship_tag": "ABX9TyP334llj1shR9LK4LBaSRcX",
      "include_colab_link": true
    },
    "kernelspec": {
      "name": "python3",
      "display_name": "Python 3"
    },
    "language_info": {
      "name": "python"
    }
  },
  "cells": [
    {
      "cell_type": "markdown",
      "metadata": {
        "id": "view-in-github",
        "colab_type": "text"
      },
      "source": [
        "<a href=\"https://colab.research.google.com/github/Tiago99Vinicius/DSBD/blob/main/trabalho1_python.ipynb\" target=\"_parent\"><img src=\"https://colab.research.google.com/assets/colab-badge.svg\" alt=\"Open In Colab\"/></a>"
      ]
    },
    {
      "cell_type": "markdown",
      "source": [
        "#Atividade Prática 1 - Dataset Notas"
      ],
      "metadata": {
        "id": "QF5gTEFwP_4K"
      }
    },
    {
      "cell_type": "code",
      "source": [
        "import pandas as pd\n",
        "import matplotlib.pyplot as plt\n",
        "\n",
        "dSIGA = pd.read_csv('historico-alg1_SIGA_ANONIMIZADO.csv')\n",
        "dSIGA"
      ],
      "metadata": {
        "colab": {
          "base_uri": "https://localhost:8080/",
          "height": 1000
        },
        "id": "HDfzeUevQ2bk",
        "outputId": "d12d26c9-9b94-4451-c0e7-264862f0f3ba"
      },
      "execution_count": 3,
      "outputs": [
        {
          "output_type": "execute_result",
          "data": {
            "text/plain": [
              "     matricula  codigo                          disciplina periodo   ano  \\\n",
              "0            0   CI055  ALGORITMOS E ESTRUTURAS DE DADOS I       1  2016   \n",
              "1            1  CI1055  ALGORITMOS E ESTRUTURAS DE DADOS 1       1  2019   \n",
              "2            1  CI1055  ALGORITMOS E ESTRUTURAS DE DADOS 1       2  2019   \n",
              "3            1  CI1055  ALGORITMOS E ESTRUTURAS DE DADOS 1       2  2020   \n",
              "4            1  CI1055  ALGORITMOS E ESTRUTURAS DE DADOS 1       1  2020   \n",
              "..         ...     ...                                 ...     ...   ...   \n",
              "904        569   CI055  ALGORITMOS E ESTRUTURAS DE DADOS I       1  2015   \n",
              "905        570  CI1055  ALGORITMOS E ESTRUTURAS DE DADOS 1       1  2022   \n",
              "906        571   CI055  ALGORITMOS E ESTRUTURAS DE DADOS I       1  2018   \n",
              "907        571  CI1055  ALGORITMOS E ESTRUTURAS DE DADOS 1       1  2019   \n",
              "908        572  CI1055  ALGORITMOS E ESTRUTURAS DE DADOS 1       1  2021   \n",
              "\n",
              "    curriculo  ch  nota  frequencia     status          tipo observacao  \\\n",
              "0         Sim  60    67          96   Aprovado         TURMA          C   \n",
              "1         Sim  60     0          73     R-freq         TURMA        NaN   \n",
              "2         Sim  60    11          76     R-nota         TURMA        NaN   \n",
              "3         Sim  60     0           0  Cancelado         TURMA        NaN   \n",
              "4         Sim  60     0           0  Cancelado         TURMA        NaN   \n",
              "..        ...  ..   ...         ...        ...           ...        ...   \n",
              "904       Sim  60     0           0   Aprovado  EQUIVALENCIA        NaN   \n",
              "905       Sim  60    70         100   Aprovado         TURMA        NaN   \n",
              "906       Não  60    98         100   Aprovado         TURMA        NaN   \n",
              "907       Sim  60     0           0   Aprovado  EQUIVALENCIA        NaN   \n",
              "908       Sim  60    83         100   Aprovado         TURMA        NaN   \n",
              "\n",
              "        natureza     situacaoDiscente   nomeTuma codigoCurriculoSie  \n",
              "0    Obrigatória  Conclusão formatura        NaN                21A  \n",
              "1    Obrigatória       Registro ativo          A                21A  \n",
              "2    Obrigatória       Registro ativo          B                21A  \n",
              "3    Obrigatória       Registro ativo          B                21A  \n",
              "4    Obrigatória       Registro ativo  ERE 2 - D                21A  \n",
              "..           ...                  ...        ...                ...  \n",
              "904  Obrigatória               Evasão        NaN                21A  \n",
              "905  Obrigatória       Registro ativo       BCC3                21A  \n",
              "906            -       Registro ativo          A                21A  \n",
              "907  Obrigatória       Registro ativo        NaN                21A  \n",
              "908  Obrigatória       Registro ativo          C                21A  \n",
              "\n",
              "[909 rows x 16 columns]"
            ],
            "text/html": [
              "\n",
              "  <div id=\"df-9b134522-5afa-4986-84e7-6e5c307b4ccb\">\n",
              "    <div class=\"colab-df-container\">\n",
              "      <div>\n",
              "<style scoped>\n",
              "    .dataframe tbody tr th:only-of-type {\n",
              "        vertical-align: middle;\n",
              "    }\n",
              "\n",
              "    .dataframe tbody tr th {\n",
              "        vertical-align: top;\n",
              "    }\n",
              "\n",
              "    .dataframe thead th {\n",
              "        text-align: right;\n",
              "    }\n",
              "</style>\n",
              "<table border=\"1\" class=\"dataframe\">\n",
              "  <thead>\n",
              "    <tr style=\"text-align: right;\">\n",
              "      <th></th>\n",
              "      <th>matricula</th>\n",
              "      <th>codigo</th>\n",
              "      <th>disciplina</th>\n",
              "      <th>periodo</th>\n",
              "      <th>ano</th>\n",
              "      <th>curriculo</th>\n",
              "      <th>ch</th>\n",
              "      <th>nota</th>\n",
              "      <th>frequencia</th>\n",
              "      <th>status</th>\n",
              "      <th>tipo</th>\n",
              "      <th>observacao</th>\n",
              "      <th>natureza</th>\n",
              "      <th>situacaoDiscente</th>\n",
              "      <th>nomeTuma</th>\n",
              "      <th>codigoCurriculoSie</th>\n",
              "    </tr>\n",
              "  </thead>\n",
              "  <tbody>\n",
              "    <tr>\n",
              "      <th>0</th>\n",
              "      <td>0</td>\n",
              "      <td>CI055</td>\n",
              "      <td>ALGORITMOS E ESTRUTURAS DE DADOS I</td>\n",
              "      <td>1</td>\n",
              "      <td>2016</td>\n",
              "      <td>Sim</td>\n",
              "      <td>60</td>\n",
              "      <td>67</td>\n",
              "      <td>96</td>\n",
              "      <td>Aprovado</td>\n",
              "      <td>TURMA</td>\n",
              "      <td>C</td>\n",
              "      <td>Obrigatória</td>\n",
              "      <td>Conclusão formatura</td>\n",
              "      <td>NaN</td>\n",
              "      <td>21A</td>\n",
              "    </tr>\n",
              "    <tr>\n",
              "      <th>1</th>\n",
              "      <td>1</td>\n",
              "      <td>CI1055</td>\n",
              "      <td>ALGORITMOS E ESTRUTURAS DE DADOS 1</td>\n",
              "      <td>1</td>\n",
              "      <td>2019</td>\n",
              "      <td>Sim</td>\n",
              "      <td>60</td>\n",
              "      <td>0</td>\n",
              "      <td>73</td>\n",
              "      <td>R-freq</td>\n",
              "      <td>TURMA</td>\n",
              "      <td>NaN</td>\n",
              "      <td>Obrigatória</td>\n",
              "      <td>Registro ativo</td>\n",
              "      <td>A</td>\n",
              "      <td>21A</td>\n",
              "    </tr>\n",
              "    <tr>\n",
              "      <th>2</th>\n",
              "      <td>1</td>\n",
              "      <td>CI1055</td>\n",
              "      <td>ALGORITMOS E ESTRUTURAS DE DADOS 1</td>\n",
              "      <td>2</td>\n",
              "      <td>2019</td>\n",
              "      <td>Sim</td>\n",
              "      <td>60</td>\n",
              "      <td>11</td>\n",
              "      <td>76</td>\n",
              "      <td>R-nota</td>\n",
              "      <td>TURMA</td>\n",
              "      <td>NaN</td>\n",
              "      <td>Obrigatória</td>\n",
              "      <td>Registro ativo</td>\n",
              "      <td>B</td>\n",
              "      <td>21A</td>\n",
              "    </tr>\n",
              "    <tr>\n",
              "      <th>3</th>\n",
              "      <td>1</td>\n",
              "      <td>CI1055</td>\n",
              "      <td>ALGORITMOS E ESTRUTURAS DE DADOS 1</td>\n",
              "      <td>2</td>\n",
              "      <td>2020</td>\n",
              "      <td>Sim</td>\n",
              "      <td>60</td>\n",
              "      <td>0</td>\n",
              "      <td>0</td>\n",
              "      <td>Cancelado</td>\n",
              "      <td>TURMA</td>\n",
              "      <td>NaN</td>\n",
              "      <td>Obrigatória</td>\n",
              "      <td>Registro ativo</td>\n",
              "      <td>B</td>\n",
              "      <td>21A</td>\n",
              "    </tr>\n",
              "    <tr>\n",
              "      <th>4</th>\n",
              "      <td>1</td>\n",
              "      <td>CI1055</td>\n",
              "      <td>ALGORITMOS E ESTRUTURAS DE DADOS 1</td>\n",
              "      <td>1</td>\n",
              "      <td>2020</td>\n",
              "      <td>Sim</td>\n",
              "      <td>60</td>\n",
              "      <td>0</td>\n",
              "      <td>0</td>\n",
              "      <td>Cancelado</td>\n",
              "      <td>TURMA</td>\n",
              "      <td>NaN</td>\n",
              "      <td>Obrigatória</td>\n",
              "      <td>Registro ativo</td>\n",
              "      <td>ERE 2 - D</td>\n",
              "      <td>21A</td>\n",
              "    </tr>\n",
              "    <tr>\n",
              "      <th>...</th>\n",
              "      <td>...</td>\n",
              "      <td>...</td>\n",
              "      <td>...</td>\n",
              "      <td>...</td>\n",
              "      <td>...</td>\n",
              "      <td>...</td>\n",
              "      <td>...</td>\n",
              "      <td>...</td>\n",
              "      <td>...</td>\n",
              "      <td>...</td>\n",
              "      <td>...</td>\n",
              "      <td>...</td>\n",
              "      <td>...</td>\n",
              "      <td>...</td>\n",
              "      <td>...</td>\n",
              "      <td>...</td>\n",
              "    </tr>\n",
              "    <tr>\n",
              "      <th>904</th>\n",
              "      <td>569</td>\n",
              "      <td>CI055</td>\n",
              "      <td>ALGORITMOS E ESTRUTURAS DE DADOS I</td>\n",
              "      <td>1</td>\n",
              "      <td>2015</td>\n",
              "      <td>Sim</td>\n",
              "      <td>60</td>\n",
              "      <td>0</td>\n",
              "      <td>0</td>\n",
              "      <td>Aprovado</td>\n",
              "      <td>EQUIVALENCIA</td>\n",
              "      <td>NaN</td>\n",
              "      <td>Obrigatória</td>\n",
              "      <td>Evasão</td>\n",
              "      <td>NaN</td>\n",
              "      <td>21A</td>\n",
              "    </tr>\n",
              "    <tr>\n",
              "      <th>905</th>\n",
              "      <td>570</td>\n",
              "      <td>CI1055</td>\n",
              "      <td>ALGORITMOS E ESTRUTURAS DE DADOS 1</td>\n",
              "      <td>1</td>\n",
              "      <td>2022</td>\n",
              "      <td>Sim</td>\n",
              "      <td>60</td>\n",
              "      <td>70</td>\n",
              "      <td>100</td>\n",
              "      <td>Aprovado</td>\n",
              "      <td>TURMA</td>\n",
              "      <td>NaN</td>\n",
              "      <td>Obrigatória</td>\n",
              "      <td>Registro ativo</td>\n",
              "      <td>BCC3</td>\n",
              "      <td>21A</td>\n",
              "    </tr>\n",
              "    <tr>\n",
              "      <th>906</th>\n",
              "      <td>571</td>\n",
              "      <td>CI055</td>\n",
              "      <td>ALGORITMOS E ESTRUTURAS DE DADOS I</td>\n",
              "      <td>1</td>\n",
              "      <td>2018</td>\n",
              "      <td>Não</td>\n",
              "      <td>60</td>\n",
              "      <td>98</td>\n",
              "      <td>100</td>\n",
              "      <td>Aprovado</td>\n",
              "      <td>TURMA</td>\n",
              "      <td>NaN</td>\n",
              "      <td>-</td>\n",
              "      <td>Registro ativo</td>\n",
              "      <td>A</td>\n",
              "      <td>21A</td>\n",
              "    </tr>\n",
              "    <tr>\n",
              "      <th>907</th>\n",
              "      <td>571</td>\n",
              "      <td>CI1055</td>\n",
              "      <td>ALGORITMOS E ESTRUTURAS DE DADOS 1</td>\n",
              "      <td>1</td>\n",
              "      <td>2019</td>\n",
              "      <td>Sim</td>\n",
              "      <td>60</td>\n",
              "      <td>0</td>\n",
              "      <td>0</td>\n",
              "      <td>Aprovado</td>\n",
              "      <td>EQUIVALENCIA</td>\n",
              "      <td>NaN</td>\n",
              "      <td>Obrigatória</td>\n",
              "      <td>Registro ativo</td>\n",
              "      <td>NaN</td>\n",
              "      <td>21A</td>\n",
              "    </tr>\n",
              "    <tr>\n",
              "      <th>908</th>\n",
              "      <td>572</td>\n",
              "      <td>CI1055</td>\n",
              "      <td>ALGORITMOS E ESTRUTURAS DE DADOS 1</td>\n",
              "      <td>1</td>\n",
              "      <td>2021</td>\n",
              "      <td>Sim</td>\n",
              "      <td>60</td>\n",
              "      <td>83</td>\n",
              "      <td>100</td>\n",
              "      <td>Aprovado</td>\n",
              "      <td>TURMA</td>\n",
              "      <td>NaN</td>\n",
              "      <td>Obrigatória</td>\n",
              "      <td>Registro ativo</td>\n",
              "      <td>C</td>\n",
              "      <td>21A</td>\n",
              "    </tr>\n",
              "  </tbody>\n",
              "</table>\n",
              "<p>909 rows × 16 columns</p>\n",
              "</div>\n",
              "      <button class=\"colab-df-convert\" onclick=\"convertToInteractive('df-9b134522-5afa-4986-84e7-6e5c307b4ccb')\"\n",
              "              title=\"Convert this dataframe to an interactive table.\"\n",
              "              style=\"display:none;\">\n",
              "        \n",
              "  <svg xmlns=\"http://www.w3.org/2000/svg\" height=\"24px\"viewBox=\"0 0 24 24\"\n",
              "       width=\"24px\">\n",
              "    <path d=\"M0 0h24v24H0V0z\" fill=\"none\"/>\n",
              "    <path d=\"M18.56 5.44l.94 2.06.94-2.06 2.06-.94-2.06-.94-.94-2.06-.94 2.06-2.06.94zm-11 1L8.5 8.5l.94-2.06 2.06-.94-2.06-.94L8.5 2.5l-.94 2.06-2.06.94zm10 10l.94 2.06.94-2.06 2.06-.94-2.06-.94-.94-2.06-.94 2.06-2.06.94z\"/><path d=\"M17.41 7.96l-1.37-1.37c-.4-.4-.92-.59-1.43-.59-.52 0-1.04.2-1.43.59L10.3 9.45l-7.72 7.72c-.78.78-.78 2.05 0 2.83L4 21.41c.39.39.9.59 1.41.59.51 0 1.02-.2 1.41-.59l7.78-7.78 2.81-2.81c.8-.78.8-2.07 0-2.86zM5.41 20L4 18.59l7.72-7.72 1.47 1.35L5.41 20z\"/>\n",
              "  </svg>\n",
              "      </button>\n",
              "      \n",
              "  <style>\n",
              "    .colab-df-container {\n",
              "      display:flex;\n",
              "      flex-wrap:wrap;\n",
              "      gap: 12px;\n",
              "    }\n",
              "\n",
              "    .colab-df-convert {\n",
              "      background-color: #E8F0FE;\n",
              "      border: none;\n",
              "      border-radius: 50%;\n",
              "      cursor: pointer;\n",
              "      display: none;\n",
              "      fill: #1967D2;\n",
              "      height: 32px;\n",
              "      padding: 0 0 0 0;\n",
              "      width: 32px;\n",
              "    }\n",
              "\n",
              "    .colab-df-convert:hover {\n",
              "      background-color: #E2EBFA;\n",
              "      box-shadow: 0px 1px 2px rgba(60, 64, 67, 0.3), 0px 1px 3px 1px rgba(60, 64, 67, 0.15);\n",
              "      fill: #174EA6;\n",
              "    }\n",
              "\n",
              "    [theme=dark] .colab-df-convert {\n",
              "      background-color: #3B4455;\n",
              "      fill: #D2E3FC;\n",
              "    }\n",
              "\n",
              "    [theme=dark] .colab-df-convert:hover {\n",
              "      background-color: #434B5C;\n",
              "      box-shadow: 0px 1px 3px 1px rgba(0, 0, 0, 0.15);\n",
              "      filter: drop-shadow(0px 1px 2px rgba(0, 0, 0, 0.3));\n",
              "      fill: #FFFFFF;\n",
              "    }\n",
              "  </style>\n",
              "\n",
              "      <script>\n",
              "        const buttonEl =\n",
              "          document.querySelector('#df-9b134522-5afa-4986-84e7-6e5c307b4ccb button.colab-df-convert');\n",
              "        buttonEl.style.display =\n",
              "          google.colab.kernel.accessAllowed ? 'block' : 'none';\n",
              "\n",
              "        async function convertToInteractive(key) {\n",
              "          const element = document.querySelector('#df-9b134522-5afa-4986-84e7-6e5c307b4ccb');\n",
              "          const dataTable =\n",
              "            await google.colab.kernel.invokeFunction('convertToInteractive',\n",
              "                                                     [key], {});\n",
              "          if (!dataTable) return;\n",
              "\n",
              "          const docLinkHtml = 'Like what you see? Visit the ' +\n",
              "            '<a target=\"_blank\" href=https://colab.research.google.com/notebooks/data_table.ipynb>data table notebook</a>'\n",
              "            + ' to learn more about interactive tables.';\n",
              "          element.innerHTML = '';\n",
              "          dataTable['output_type'] = 'display_data';\n",
              "          await google.colab.output.renderOutput(dataTable, element);\n",
              "          const docLink = document.createElement('div');\n",
              "          docLink.innerHTML = docLinkHtml;\n",
              "          element.appendChild(docLink);\n",
              "        }\n",
              "      </script>\n",
              "    </div>\n",
              "  </div>\n",
              "  "
            ]
          },
          "metadata": {},
          "execution_count": 3
        }
      ]
    },
    {
      "cell_type": "markdown",
      "source": [
        "#1. Qual é a média de nota dos aprovados (no período total e por ano)?"
      ],
      "metadata": {
        "id": "XkzWHVU_S4gQ"
      }
    },
    {
      "cell_type": "code",
      "source": [
        "is_approved = dSIGA['status'] == 'Aprovado'\n",
        "dSIGA_approved = dSIGA[is_approved]\n",
        "dSIGA_approved"
      ],
      "metadata": {
        "colab": {
          "base_uri": "https://localhost:8080/",
          "height": 1000
        },
        "id": "YMe3oNDrRcvk",
        "outputId": "065a1933-481d-4ba9-9b19-60003b8128fc"
      },
      "execution_count": 10,
      "outputs": [
        {
          "output_type": "execute_result",
          "data": {
            "text/plain": [
              "     matricula  codigo                          disciplina periodo   ano  \\\n",
              "0            0   CI055  ALGORITMOS E ESTRUTURAS DE DADOS I       1  2016   \n",
              "9            2   CI055  ALGORITMOS E ESTRUTURAS DE DADOS I       1  2015   \n",
              "10           3  CI1055  ALGORITMOS E ESTRUTURAS DE DADOS 1       1  2022   \n",
              "15           5   CI055  ALGORITMOS E ESTRUTURAS DE DADOS I       1  2017   \n",
              "16           5  CI1055  ALGORITMOS E ESTRUTURAS DE DADOS 1       1  2019   \n",
              "..         ...     ...                                 ...     ...   ...   \n",
              "904        569   CI055  ALGORITMOS E ESTRUTURAS DE DADOS I       1  2015   \n",
              "905        570  CI1055  ALGORITMOS E ESTRUTURAS DE DADOS 1       1  2022   \n",
              "906        571   CI055  ALGORITMOS E ESTRUTURAS DE DADOS I       1  2018   \n",
              "907        571  CI1055  ALGORITMOS E ESTRUTURAS DE DADOS 1       1  2019   \n",
              "908        572  CI1055  ALGORITMOS E ESTRUTURAS DE DADOS 1       1  2021   \n",
              "\n",
              "    curriculo  ch  nota  frequencia    status          tipo observacao  \\\n",
              "0         Sim  60    67          96  Aprovado         TURMA          C   \n",
              "9         Sim  60    72          96  Aprovado         TURMA        NaN   \n",
              "10        Sim  60    72         100  Aprovado         TURMA        NaN   \n",
              "15        Não  60    61         100  Aprovado         TURMA        NaN   \n",
              "16        Sim  60     0           0  Aprovado  EQUIVALENCIA        NaN   \n",
              "..        ...  ..   ...         ...       ...           ...        ...   \n",
              "904       Sim  60     0           0  Aprovado  EQUIVALENCIA        NaN   \n",
              "905       Sim  60    70         100  Aprovado         TURMA        NaN   \n",
              "906       Não  60    98         100  Aprovado         TURMA        NaN   \n",
              "907       Sim  60     0           0  Aprovado  EQUIVALENCIA        NaN   \n",
              "908       Sim  60    83         100  Aprovado         TURMA        NaN   \n",
              "\n",
              "        natureza     situacaoDiscente nomeTuma codigoCurriculoSie  \n",
              "0    Obrigatória  Conclusão formatura      NaN                21A  \n",
              "9    Obrigatória  Conclusão formatura      NaN                21A  \n",
              "10   Obrigatória       Registro ativo     BCC1                21A  \n",
              "15             -       Registro ativo        C                21A  \n",
              "16   Obrigatória       Registro ativo      NaN                21A  \n",
              "..           ...                  ...      ...                ...  \n",
              "904  Obrigatória               Evasão      NaN                21A  \n",
              "905  Obrigatória       Registro ativo     BCC3                21A  \n",
              "906            -       Registro ativo        A                21A  \n",
              "907  Obrigatória       Registro ativo      NaN                21A  \n",
              "908  Obrigatória       Registro ativo        C                21A  \n",
              "\n",
              "[624 rows x 16 columns]"
            ],
            "text/html": [
              "\n",
              "  <div id=\"df-025e2ee9-cd4f-4cf5-bcae-2258f2dd5901\">\n",
              "    <div class=\"colab-df-container\">\n",
              "      <div>\n",
              "<style scoped>\n",
              "    .dataframe tbody tr th:only-of-type {\n",
              "        vertical-align: middle;\n",
              "    }\n",
              "\n",
              "    .dataframe tbody tr th {\n",
              "        vertical-align: top;\n",
              "    }\n",
              "\n",
              "    .dataframe thead th {\n",
              "        text-align: right;\n",
              "    }\n",
              "</style>\n",
              "<table border=\"1\" class=\"dataframe\">\n",
              "  <thead>\n",
              "    <tr style=\"text-align: right;\">\n",
              "      <th></th>\n",
              "      <th>matricula</th>\n",
              "      <th>codigo</th>\n",
              "      <th>disciplina</th>\n",
              "      <th>periodo</th>\n",
              "      <th>ano</th>\n",
              "      <th>curriculo</th>\n",
              "      <th>ch</th>\n",
              "      <th>nota</th>\n",
              "      <th>frequencia</th>\n",
              "      <th>status</th>\n",
              "      <th>tipo</th>\n",
              "      <th>observacao</th>\n",
              "      <th>natureza</th>\n",
              "      <th>situacaoDiscente</th>\n",
              "      <th>nomeTuma</th>\n",
              "      <th>codigoCurriculoSie</th>\n",
              "    </tr>\n",
              "  </thead>\n",
              "  <tbody>\n",
              "    <tr>\n",
              "      <th>0</th>\n",
              "      <td>0</td>\n",
              "      <td>CI055</td>\n",
              "      <td>ALGORITMOS E ESTRUTURAS DE DADOS I</td>\n",
              "      <td>1</td>\n",
              "      <td>2016</td>\n",
              "      <td>Sim</td>\n",
              "      <td>60</td>\n",
              "      <td>67</td>\n",
              "      <td>96</td>\n",
              "      <td>Aprovado</td>\n",
              "      <td>TURMA</td>\n",
              "      <td>C</td>\n",
              "      <td>Obrigatória</td>\n",
              "      <td>Conclusão formatura</td>\n",
              "      <td>NaN</td>\n",
              "      <td>21A</td>\n",
              "    </tr>\n",
              "    <tr>\n",
              "      <th>9</th>\n",
              "      <td>2</td>\n",
              "      <td>CI055</td>\n",
              "      <td>ALGORITMOS E ESTRUTURAS DE DADOS I</td>\n",
              "      <td>1</td>\n",
              "      <td>2015</td>\n",
              "      <td>Sim</td>\n",
              "      <td>60</td>\n",
              "      <td>72</td>\n",
              "      <td>96</td>\n",
              "      <td>Aprovado</td>\n",
              "      <td>TURMA</td>\n",
              "      <td>NaN</td>\n",
              "      <td>Obrigatória</td>\n",
              "      <td>Conclusão formatura</td>\n",
              "      <td>NaN</td>\n",
              "      <td>21A</td>\n",
              "    </tr>\n",
              "    <tr>\n",
              "      <th>10</th>\n",
              "      <td>3</td>\n",
              "      <td>CI1055</td>\n",
              "      <td>ALGORITMOS E ESTRUTURAS DE DADOS 1</td>\n",
              "      <td>1</td>\n",
              "      <td>2022</td>\n",
              "      <td>Sim</td>\n",
              "      <td>60</td>\n",
              "      <td>72</td>\n",
              "      <td>100</td>\n",
              "      <td>Aprovado</td>\n",
              "      <td>TURMA</td>\n",
              "      <td>NaN</td>\n",
              "      <td>Obrigatória</td>\n",
              "      <td>Registro ativo</td>\n",
              "      <td>BCC1</td>\n",
              "      <td>21A</td>\n",
              "    </tr>\n",
              "    <tr>\n",
              "      <th>15</th>\n",
              "      <td>5</td>\n",
              "      <td>CI055</td>\n",
              "      <td>ALGORITMOS E ESTRUTURAS DE DADOS I</td>\n",
              "      <td>1</td>\n",
              "      <td>2017</td>\n",
              "      <td>Não</td>\n",
              "      <td>60</td>\n",
              "      <td>61</td>\n",
              "      <td>100</td>\n",
              "      <td>Aprovado</td>\n",
              "      <td>TURMA</td>\n",
              "      <td>NaN</td>\n",
              "      <td>-</td>\n",
              "      <td>Registro ativo</td>\n",
              "      <td>C</td>\n",
              "      <td>21A</td>\n",
              "    </tr>\n",
              "    <tr>\n",
              "      <th>16</th>\n",
              "      <td>5</td>\n",
              "      <td>CI1055</td>\n",
              "      <td>ALGORITMOS E ESTRUTURAS DE DADOS 1</td>\n",
              "      <td>1</td>\n",
              "      <td>2019</td>\n",
              "      <td>Sim</td>\n",
              "      <td>60</td>\n",
              "      <td>0</td>\n",
              "      <td>0</td>\n",
              "      <td>Aprovado</td>\n",
              "      <td>EQUIVALENCIA</td>\n",
              "      <td>NaN</td>\n",
              "      <td>Obrigatória</td>\n",
              "      <td>Registro ativo</td>\n",
              "      <td>NaN</td>\n",
              "      <td>21A</td>\n",
              "    </tr>\n",
              "    <tr>\n",
              "      <th>...</th>\n",
              "      <td>...</td>\n",
              "      <td>...</td>\n",
              "      <td>...</td>\n",
              "      <td>...</td>\n",
              "      <td>...</td>\n",
              "      <td>...</td>\n",
              "      <td>...</td>\n",
              "      <td>...</td>\n",
              "      <td>...</td>\n",
              "      <td>...</td>\n",
              "      <td>...</td>\n",
              "      <td>...</td>\n",
              "      <td>...</td>\n",
              "      <td>...</td>\n",
              "      <td>...</td>\n",
              "      <td>...</td>\n",
              "    </tr>\n",
              "    <tr>\n",
              "      <th>904</th>\n",
              "      <td>569</td>\n",
              "      <td>CI055</td>\n",
              "      <td>ALGORITMOS E ESTRUTURAS DE DADOS I</td>\n",
              "      <td>1</td>\n",
              "      <td>2015</td>\n",
              "      <td>Sim</td>\n",
              "      <td>60</td>\n",
              "      <td>0</td>\n",
              "      <td>0</td>\n",
              "      <td>Aprovado</td>\n",
              "      <td>EQUIVALENCIA</td>\n",
              "      <td>NaN</td>\n",
              "      <td>Obrigatória</td>\n",
              "      <td>Evasão</td>\n",
              "      <td>NaN</td>\n",
              "      <td>21A</td>\n",
              "    </tr>\n",
              "    <tr>\n",
              "      <th>905</th>\n",
              "      <td>570</td>\n",
              "      <td>CI1055</td>\n",
              "      <td>ALGORITMOS E ESTRUTURAS DE DADOS 1</td>\n",
              "      <td>1</td>\n",
              "      <td>2022</td>\n",
              "      <td>Sim</td>\n",
              "      <td>60</td>\n",
              "      <td>70</td>\n",
              "      <td>100</td>\n",
              "      <td>Aprovado</td>\n",
              "      <td>TURMA</td>\n",
              "      <td>NaN</td>\n",
              "      <td>Obrigatória</td>\n",
              "      <td>Registro ativo</td>\n",
              "      <td>BCC3</td>\n",
              "      <td>21A</td>\n",
              "    </tr>\n",
              "    <tr>\n",
              "      <th>906</th>\n",
              "      <td>571</td>\n",
              "      <td>CI055</td>\n",
              "      <td>ALGORITMOS E ESTRUTURAS DE DADOS I</td>\n",
              "      <td>1</td>\n",
              "      <td>2018</td>\n",
              "      <td>Não</td>\n",
              "      <td>60</td>\n",
              "      <td>98</td>\n",
              "      <td>100</td>\n",
              "      <td>Aprovado</td>\n",
              "      <td>TURMA</td>\n",
              "      <td>NaN</td>\n",
              "      <td>-</td>\n",
              "      <td>Registro ativo</td>\n",
              "      <td>A</td>\n",
              "      <td>21A</td>\n",
              "    </tr>\n",
              "    <tr>\n",
              "      <th>907</th>\n",
              "      <td>571</td>\n",
              "      <td>CI1055</td>\n",
              "      <td>ALGORITMOS E ESTRUTURAS DE DADOS 1</td>\n",
              "      <td>1</td>\n",
              "      <td>2019</td>\n",
              "      <td>Sim</td>\n",
              "      <td>60</td>\n",
              "      <td>0</td>\n",
              "      <td>0</td>\n",
              "      <td>Aprovado</td>\n",
              "      <td>EQUIVALENCIA</td>\n",
              "      <td>NaN</td>\n",
              "      <td>Obrigatória</td>\n",
              "      <td>Registro ativo</td>\n",
              "      <td>NaN</td>\n",
              "      <td>21A</td>\n",
              "    </tr>\n",
              "    <tr>\n",
              "      <th>908</th>\n",
              "      <td>572</td>\n",
              "      <td>CI1055</td>\n",
              "      <td>ALGORITMOS E ESTRUTURAS DE DADOS 1</td>\n",
              "      <td>1</td>\n",
              "      <td>2021</td>\n",
              "      <td>Sim</td>\n",
              "      <td>60</td>\n",
              "      <td>83</td>\n",
              "      <td>100</td>\n",
              "      <td>Aprovado</td>\n",
              "      <td>TURMA</td>\n",
              "      <td>NaN</td>\n",
              "      <td>Obrigatória</td>\n",
              "      <td>Registro ativo</td>\n",
              "      <td>C</td>\n",
              "      <td>21A</td>\n",
              "    </tr>\n",
              "  </tbody>\n",
              "</table>\n",
              "<p>624 rows × 16 columns</p>\n",
              "</div>\n",
              "      <button class=\"colab-df-convert\" onclick=\"convertToInteractive('df-025e2ee9-cd4f-4cf5-bcae-2258f2dd5901')\"\n",
              "              title=\"Convert this dataframe to an interactive table.\"\n",
              "              style=\"display:none;\">\n",
              "        \n",
              "  <svg xmlns=\"http://www.w3.org/2000/svg\" height=\"24px\"viewBox=\"0 0 24 24\"\n",
              "       width=\"24px\">\n",
              "    <path d=\"M0 0h24v24H0V0z\" fill=\"none\"/>\n",
              "    <path d=\"M18.56 5.44l.94 2.06.94-2.06 2.06-.94-2.06-.94-.94-2.06-.94 2.06-2.06.94zm-11 1L8.5 8.5l.94-2.06 2.06-.94-2.06-.94L8.5 2.5l-.94 2.06-2.06.94zm10 10l.94 2.06.94-2.06 2.06-.94-2.06-.94-.94-2.06-.94 2.06-2.06.94z\"/><path d=\"M17.41 7.96l-1.37-1.37c-.4-.4-.92-.59-1.43-.59-.52 0-1.04.2-1.43.59L10.3 9.45l-7.72 7.72c-.78.78-.78 2.05 0 2.83L4 21.41c.39.39.9.59 1.41.59.51 0 1.02-.2 1.41-.59l7.78-7.78 2.81-2.81c.8-.78.8-2.07 0-2.86zM5.41 20L4 18.59l7.72-7.72 1.47 1.35L5.41 20z\"/>\n",
              "  </svg>\n",
              "      </button>\n",
              "      \n",
              "  <style>\n",
              "    .colab-df-container {\n",
              "      display:flex;\n",
              "      flex-wrap:wrap;\n",
              "      gap: 12px;\n",
              "    }\n",
              "\n",
              "    .colab-df-convert {\n",
              "      background-color: #E8F0FE;\n",
              "      border: none;\n",
              "      border-radius: 50%;\n",
              "      cursor: pointer;\n",
              "      display: none;\n",
              "      fill: #1967D2;\n",
              "      height: 32px;\n",
              "      padding: 0 0 0 0;\n",
              "      width: 32px;\n",
              "    }\n",
              "\n",
              "    .colab-df-convert:hover {\n",
              "      background-color: #E2EBFA;\n",
              "      box-shadow: 0px 1px 2px rgba(60, 64, 67, 0.3), 0px 1px 3px 1px rgba(60, 64, 67, 0.15);\n",
              "      fill: #174EA6;\n",
              "    }\n",
              "\n",
              "    [theme=dark] .colab-df-convert {\n",
              "      background-color: #3B4455;\n",
              "      fill: #D2E3FC;\n",
              "    }\n",
              "\n",
              "    [theme=dark] .colab-df-convert:hover {\n",
              "      background-color: #434B5C;\n",
              "      box-shadow: 0px 1px 3px 1px rgba(0, 0, 0, 0.15);\n",
              "      filter: drop-shadow(0px 1px 2px rgba(0, 0, 0, 0.3));\n",
              "      fill: #FFFFFF;\n",
              "    }\n",
              "  </style>\n",
              "\n",
              "      <script>\n",
              "        const buttonEl =\n",
              "          document.querySelector('#df-025e2ee9-cd4f-4cf5-bcae-2258f2dd5901 button.colab-df-convert');\n",
              "        buttonEl.style.display =\n",
              "          google.colab.kernel.accessAllowed ? 'block' : 'none';\n",
              "\n",
              "        async function convertToInteractive(key) {\n",
              "          const element = document.querySelector('#df-025e2ee9-cd4f-4cf5-bcae-2258f2dd5901');\n",
              "          const dataTable =\n",
              "            await google.colab.kernel.invokeFunction('convertToInteractive',\n",
              "                                                     [key], {});\n",
              "          if (!dataTable) return;\n",
              "\n",
              "          const docLinkHtml = 'Like what you see? Visit the ' +\n",
              "            '<a target=\"_blank\" href=https://colab.research.google.com/notebooks/data_table.ipynb>data table notebook</a>'\n",
              "            + ' to learn more about interactive tables.';\n",
              "          element.innerHTML = '';\n",
              "          dataTable['output_type'] = 'display_data';\n",
              "          await google.colab.output.renderOutput(dataTable, element);\n",
              "          const docLink = document.createElement('div');\n",
              "          docLink.innerHTML = docLinkHtml;\n",
              "          element.appendChild(docLink);\n",
              "        }\n",
              "      </script>\n",
              "    </div>\n",
              "  </div>\n",
              "  "
            ]
          },
          "metadata": {},
          "execution_count": 10
        }
      ]
    },
    {
      "cell_type": "markdown",
      "source": [
        "##1.1. Média de Aprovados no Período Total"
      ],
      "metadata": {
        "id": "acTJa1JWa6l5"
      }
    },
    {
      "cell_type": "code",
      "source": [
        "mean_approved = dSIGA_approved['nota'].mean()\n",
        "mean_approved"
      ],
      "metadata": {
        "colab": {
          "base_uri": "https://localhost:8080/"
        },
        "id": "i-qLTvkNT7fb",
        "outputId": "3ee5c854-ec7c-41c9-ab26-c75ab0275a6e"
      },
      "execution_count": 12,
      "outputs": [
        {
          "output_type": "execute_result",
          "data": {
            "text/plain": [
              "60.017628205128204"
            ]
          },
          "metadata": {},
          "execution_count": 12
        }
      ]
    },
    {
      "cell_type": "markdown",
      "source": [
        "##1.2. Média de Aprovados por Ano"
      ],
      "metadata": {
        "id": "RLUvSYUVbCGG"
      }
    },
    {
      "cell_type": "code",
      "source": [
        "dmean_approved_yearly = dSIGA_approved.groupby('ano')['nota'].mean()\n",
        "dmean_approved_yearly.plot(kind='bar')"
      ],
      "metadata": {
        "colab": {
          "base_uri": "https://localhost:8080/",
          "height": 488
        },
        "id": "3r7U9xIhVV-a",
        "outputId": "450741c5-ba92-4e32-d6a8-8fa43cdeeff6"
      },
      "execution_count": 41,
      "outputs": [
        {
          "output_type": "execute_result",
          "data": {
            "text/plain": [
              "<Axes: xlabel='ano'>"
            ]
          },
          "metadata": {},
          "execution_count": 41
        },
        {
          "output_type": "display_data",
          "data": {
            "text/plain": [
              "<Figure size 640x480 with 1 Axes>"
            ],
            "image/png": "[encoded data removed]"
          },
          "metadata": {}
        }
      ]
    },
    {
      "cell_type": "code",
      "source": [
        "dmean_approved_yearly"
      ],
      "metadata": {
        "colab": {
          "base_uri": "https://localhost:8080/"
        },
        "id": "N9JlvYeHcwvm",
        "outputId": "0c08ef77-e298-4a9f-c0dd-390e7bf86bcf"
      },
      "execution_count": 18,
      "outputs": [
        {
          "output_type": "execute_result",
          "data": {
            "text/plain": [
              "ano\n",
              "2011    50.000000\n",
              "2013    70.375000\n",
              "2014    72.142857\n",
              "2015    63.678571\n",
              "2016    67.391304\n",
              "2017    74.710145\n",
              "2018    70.869565\n",
              "2019    31.450495\n",
              "2020    72.400000\n",
              "2021    83.882353\n",
              "2022    76.428571\n",
              "Name: nota, dtype: float64"
            ]
          },
          "metadata": {},
          "execution_count": 18
        }
      ]
    },
    {
      "cell_type": "markdown",
      "source": [
        "#2. Qual é a média de nota dos reprovados por nota (período total e ano)?"
      ],
      "metadata": {
        "id": "FOGREPG7fTp9"
      }
    },
    {
      "cell_type": "code",
      "source": [
        "dSIGA['status'].unique()"
      ],
      "metadata": {
        "colab": {
          "base_uri": "https://localhost:8080/"
        },
        "id": "WVKsvIUlgt_z",
        "outputId": "a2469c04-a978-4509-c4a6-4854e2084876"
      },
      "execution_count": 19,
      "outputs": [
        {
          "output_type": "execute_result",
          "data": {
            "text/plain": [
              "array(['Aprovado', 'R-freq', 'R-nota', 'Cancelado', 'Matriculado',\n",
              "       'Reprovado'], dtype=object)"
            ]
          },
          "metadata": {},
          "execution_count": 19
        }
      ]
    },
    {
      "cell_type": "markdown",
      "source": [
        "Antes de fazer a contagem de reprovados por nota propriamente, será necessário analisar os registros com status \"Reprovado\"(que não tem distinção do motivo):"
      ],
      "metadata": {
        "id": "iAlgFw0pf54l"
      }
    },
    {
      "cell_type": "code",
      "source": [
        "is_only_disapproved = dSIGA['status'] == 'Reprovado'\n",
        "dSIGA_disapproved = dSIGA[is_only_disapproved]\n",
        "dSIGA_disapproved"
      ],
      "metadata": {
        "colab": {
          "base_uri": "https://localhost:8080/",
          "height": 197
        },
        "id": "euIRcHkRfzpG",
        "outputId": "246aa570-19c1-455a-b3d0-2d42ba54e4f8"
      },
      "execution_count": 21,
      "outputs": [
        {
          "output_type": "execute_result",
          "data": {
            "text/plain": [
              "     matricula codigo                          disciplina periodo   ano  \\\n",
              "165         95  CI055  ALGORITMOS E ESTRUTURAS DE DADOS I   Anual  2019   \n",
              "\n",
              "    curriculo  ch  nota  frequencia     status            tipo observacao  \\\n",
              "165       Sim  60     5           0  Reprovado  APROVEITAMENTO        NaN   \n",
              "\n",
              "    natureza situacaoDiscente nomeTuma codigoCurriculoSie  \n",
              "165        -   Registro ativo      NaN                21A  "
            ],
            "text/html": [
              "\n",
              "  <div id=\"df-2dee200d-38d5-4e05-8c79-2f87bdb204cc\">\n",
              "    <div class=\"colab-df-container\">\n",
              "      <div>\n",
              "<style scoped>\n",
              "    .dataframe tbody tr th:only-of-type {\n",
              "        vertical-align: middle;\n",
              "    }\n",
              "\n",
              "    .dataframe tbody tr th {\n",
              "        vertical-align: top;\n",
              "    }\n",
              "\n",
              "    .dataframe thead th {\n",
              "        text-align: right;\n",
              "    }\n",
              "</style>\n",
              "<table border=\"1\" class=\"dataframe\">\n",
              "  <thead>\n",
              "    <tr style=\"text-align: right;\">\n",
              "      <th></th>\n",
              "      <th>matricula</th>\n",
              "      <th>codigo</th>\n",
              "      <th>disciplina</th>\n",
              "      <th>periodo</th>\n",
              "      <th>ano</th>\n",
              "      <th>curriculo</th>\n",
              "      <th>ch</th>\n",
              "      <th>nota</th>\n",
              "      <th>frequencia</th>\n",
              "      <th>status</th>\n",
              "      <th>tipo</th>\n",
              "      <th>observacao</th>\n",
              "      <th>natureza</th>\n",
              "      <th>situacaoDiscente</th>\n",
              "      <th>nomeTuma</th>\n",
              "      <th>codigoCurriculoSie</th>\n",
              "    </tr>\n",
              "  </thead>\n",
              "  <tbody>\n",
              "    <tr>\n",
              "      <th>165</th>\n",
              "      <td>95</td>\n",
              "      <td>CI055</td>\n",
              "      <td>ALGORITMOS E ESTRUTURAS DE DADOS I</td>\n",
              "      <td>Anual</td>\n",
              "      <td>2019</td>\n",
              "      <td>Sim</td>\n",
              "      <td>60</td>\n",
              "      <td>5</td>\n",
              "      <td>0</td>\n",
              "      <td>Reprovado</td>\n",
              "      <td>APROVEITAMENTO</td>\n",
              "      <td>NaN</td>\n",
              "      <td>-</td>\n",
              "      <td>Registro ativo</td>\n",
              "      <td>NaN</td>\n",
              "      <td>21A</td>\n",
              "    </tr>\n",
              "  </tbody>\n",
              "</table>\n",
              "</div>\n",
              "      <button class=\"colab-df-convert\" onclick=\"convertToInteractive('df-2dee200d-38d5-4e05-8c79-2f87bdb204cc')\"\n",
              "              title=\"Convert this dataframe to an interactive table.\"\n",
              "              style=\"display:none;\">\n",
              "        \n",
              "  <svg xmlns=\"http://www.w3.org/2000/svg\" height=\"24px\"viewBox=\"0 0 24 24\"\n",
              "       width=\"24px\">\n",
              "    <path d=\"M0 0h24v24H0V0z\" fill=\"none\"/>\n",
              "    <path d=\"M18.56 5.44l.94 2.06.94-2.06 2.06-.94-2.06-.94-.94-2.06-.94 2.06-2.06.94zm-11 1L8.5 8.5l.94-2.06 2.06-.94-2.06-.94L8.5 2.5l-.94 2.06-2.06.94zm10 10l.94 2.06.94-2.06 2.06-.94-2.06-.94-.94-2.06-.94 2.06-2.06.94z\"/><path d=\"M17.41 7.96l-1.37-1.37c-.4-.4-.92-.59-1.43-.59-.52 0-1.04.2-1.43.59L10.3 9.45l-7.72 7.72c-.78.78-.78 2.05 0 2.83L4 21.41c.39.39.9.59 1.41.59.51 0 1.02-.2 1.41-.59l7.78-7.78 2.81-2.81c.8-.78.8-2.07 0-2.86zM5.41 20L4 18.59l7.72-7.72 1.47 1.35L5.41 20z\"/>\n",
              "  </svg>\n",
              "      </button>\n",
              "      \n",
              "  <style>\n",
              "    .colab-df-container {\n",
              "      display:flex;\n",
              "      flex-wrap:wrap;\n",
              "      gap: 12px;\n",
              "    }\n",
              "\n",
              "    .colab-df-convert {\n",
              "      background-color: #E8F0FE;\n",
              "      border: none;\n",
              "      border-radius: 50%;\n",
              "      cursor: pointer;\n",
              "      display: none;\n",
              "      fill: #1967D2;\n",
              "      height: 32px;\n",
              "      padding: 0 0 0 0;\n",
              "      width: 32px;\n",
              "    }\n",
              "\n",
              "    .colab-df-convert:hover {\n",
              "      background-color: #E2EBFA;\n",
              "      box-shadow: 0px 1px 2px rgba(60, 64, 67, 0.3), 0px 1px 3px 1px rgba(60, 64, 67, 0.15);\n",
              "      fill: #174EA6;\n",
              "    }\n",
              "\n",
              "    [theme=dark] .colab-df-convert {\n",
              "      background-color: #3B4455;\n",
              "      fill: #D2E3FC;\n",
              "    }\n",
              "\n",
              "    [theme=dark] .colab-df-convert:hover {\n",
              "      background-color: #434B5C;\n",
              "      box-shadow: 0px 1px 3px 1px rgba(0, 0, 0, 0.15);\n",
              "      filter: drop-shadow(0px 1px 2px rgba(0, 0, 0, 0.3));\n",
              "      fill: #FFFFFF;\n",
              "    }\n",
              "  </style>\n",
              "\n",
              "      <script>\n",
              "        const buttonEl =\n",
              "          document.querySelector('#df-2dee200d-38d5-4e05-8c79-2f87bdb204cc button.colab-df-convert');\n",
              "        buttonEl.style.display =\n",
              "          google.colab.kernel.accessAllowed ? 'block' : 'none';\n",
              "\n",
              "        async function convertToInteractive(key) {\n",
              "          const element = document.querySelector('#df-2dee200d-38d5-4e05-8c79-2f87bdb204cc');\n",
              "          const dataTable =\n",
              "            await google.colab.kernel.invokeFunction('convertToInteractive',\n",
              "                                                     [key], {});\n",
              "          if (!dataTable) return;\n",
              "\n",
              "          const docLinkHtml = 'Like what you see? Visit the ' +\n",
              "            '<a target=\"_blank\" href=https://colab.research.google.com/notebooks/data_table.ipynb>data table notebook</a>'\n",
              "            + ' to learn more about interactive tables.';\n",
              "          element.innerHTML = '';\n",
              "          dataTable['output_type'] = 'display_data';\n",
              "          await google.colab.output.renderOutput(dataTable, element);\n",
              "          const docLink = document.createElement('div');\n",
              "          docLink.innerHTML = docLinkHtml;\n",
              "          element.appendChild(docLink);\n",
              "        }\n",
              "      </script>\n",
              "    </div>\n",
              "  </div>\n",
              "  "
            ]
          },
          "metadata": {},
          "execution_count": 21
        }
      ]
    },
    {
      "cell_type": "markdown",
      "source": [
        "Como Podemos ver, existe apenas um aluno com status \"Reprovado\" e como ele possui nota 5 e frequência 0, ele se enquadra como 'R-freq'. Faremos então essa alteração no status deste aluno."
      ],
      "metadata": {
        "id": "Q8tCOGHbhsmR"
      }
    },
    {
      "cell_type": "code",
      "source": [
        "dSIGA_adjusted = dSIGA.mask(dSIGA == 'Reprovado', 'R-freq')"
      ],
      "metadata": {
        "id": "-AVRsKIXi3yt"
      },
      "execution_count": 37,
      "outputs": []
    },
    {
      "cell_type": "code",
      "source": [
        "set_disapproved = ['R-nota', 'R-freq', 'Reprovado']\n",
        "dSIGA_disapproved = dSIGA_adjusted[dSIGA_adjusted['status'].isin(set_disapproved)]\n",
        "dSIGA_disapproved['status'].value_counts()"
      ],
      "metadata": {
        "colab": {
          "base_uri": "https://localhost:8080/"
        },
        "id": "8nNoWblppqXe",
        "outputId": "b3ac5f84-a3d6-4e69-b2ec-2e7bbb7786da"
      },
      "execution_count": 38,
      "outputs": [
        {
          "output_type": "execute_result",
          "data": {
            "text/plain": [
              "R-nota    162\n",
              "R-freq     50\n",
              "Name: status, dtype: int64"
            ]
          },
          "metadata": {},
          "execution_count": 38
        }
      ]
    },
    {
      "cell_type": "markdown",
      "source": [
        "Agora estamos aptos para gerar a base dos reprovados por nota propriamente, e assim farei:"
      ],
      "metadata": {
        "id": "3CoH5leir-uf"
      }
    },
    {
      "cell_type": "code",
      "source": [
        "dSIGA_grades_disapproved = dSIGA_disapproved[dSIGA_disapproved['status'] == 'R-nota']\n",
        "dSIGA_grades_disapproved"
      ],
      "metadata": {
        "colab": {
          "base_uri": "https://localhost:8080/",
          "height": 814
        },
        "id": "tFBRDjjwwhtx",
        "outputId": "59f13fd9-1da8-4b04-e295-635c4b72ab52"
      },
      "execution_count": 45,
      "outputs": [
        {
          "output_type": "execute_result",
          "data": {
            "text/plain": [
              "     matricula  codigo                          disciplina periodo   ano  \\\n",
              "2            1  CI1055  ALGORITMOS E ESTRUTURAS DE DADOS 1       2  2019   \n",
              "6            1  CI1055  ALGORITMOS E ESTRUTURAS DE DADOS 1       2  2021   \n",
              "13           5   CI055  ALGORITMOS E ESTRUTURAS DE DADOS I       1  2016   \n",
              "14           5   CI055  ALGORITMOS E ESTRUTURAS DE DADOS I       2  2016   \n",
              "19           7   CI055  ALGORITMOS E ESTRUTURAS DE DADOS I       1  2018   \n",
              "..         ...     ...                                 ...     ...   ...   \n",
              "873        552   CI055  ALGORITMOS E ESTRUTURAS DE DADOS I       1  2018   \n",
              "884        558   CI055  ALGORITMOS E ESTRUTURAS DE DADOS I       1  2018   \n",
              "893        563  CI1055  ALGORITMOS E ESTRUTURAS DE DADOS 1       2  2021   \n",
              "894        563  CI1055  ALGORITMOS E ESTRUTURAS DE DADOS 1       1  2022   \n",
              "901        568  CI1055  ALGORITMOS E ESTRUTURAS DE DADOS 1       2  2020   \n",
              "\n",
              "    curriculo  ch  nota  frequencia  status   tipo observacao     natureza  \\\n",
              "2         Sim  60    11          76  R-nota  TURMA        NaN  Obrigatória   \n",
              "6         Sim  60    21          80  R-nota  TURMA        NaN  Obrigatória   \n",
              "13        Não  60     1          83  R-nota  TURMA        NaN            -   \n",
              "14        Não  60    29          86  R-nota  TURMA        NaN            -   \n",
              "19        Não  60     1          93  R-nota  TURMA        NaN            -   \n",
              "..        ...  ..   ...         ...     ...    ...        ...          ...   \n",
              "873       Não  60    27         100  R-nota  TURMA        NaN            -   \n",
              "884       Não  60    30          96  R-nota  TURMA        NaN            -   \n",
              "893       Sim  60     0         100  R-nota  TURMA        NaN  Obrigatória   \n",
              "894       Sim  60     0         100  R-nota  TURMA        NaN  Obrigatória   \n",
              "901       Sim  60    47         100  R-nota  TURMA        NaN  Obrigatória   \n",
              "\n",
              "    situacaoDiscente nomeTuma codigoCurriculoSie  \n",
              "2     Registro ativo        B                21A  \n",
              "6     Registro ativo        D                21A  \n",
              "13    Registro ativo        D                21A  \n",
              "14    Registro ativo        C                21A  \n",
              "19    Registro ativo        D                21A  \n",
              "..               ...      ...                ...  \n",
              "873   Registro ativo        B                21A  \n",
              "884   Registro ativo        D                21A  \n",
              "893      Trancamento        A                21A  \n",
              "894      Trancamento     BCC1                21A  \n",
              "901   Registro ativo        A                21A  \n",
              "\n",
              "[162 rows x 16 columns]"
            ],
            "text/html": [
              "\n",
              "  <div id=\"df-eadb8852-1ddf-4e0f-85a7-57ab3666d900\">\n",
              "    <div class=\"colab-df-container\">\n",
              "      <div>\n",
              "<style scoped>\n",
              "    .dataframe tbody tr th:only-of-type {\n",
              "        vertical-align: middle;\n",
              "    }\n",
              "\n",
              "    .dataframe tbody tr th {\n",
              "        vertical-align: top;\n",
              "    }\n",
              "\n",
              "    .dataframe thead th {\n",
              "        text-align: right;\n",
              "    }\n",
              "</style>\n",
              "<table border=\"1\" class=\"dataframe\">\n",
              "  <thead>\n",
              "    <tr style=\"text-align: right;\">\n",
              "      <th></th>\n",
              "      <th>matricula</th>\n",
              "      <th>codigo</th>\n",
              "      <th>disciplina</th>\n",
              "      <th>periodo</th>\n",
              "      <th>ano</th>\n",
              "      <th>curriculo</th>\n",
              "      <th>ch</th>\n",
              "      <th>nota</th>\n",
              "      <th>frequencia</th>\n",
              "      <th>status</th>\n",
              "      <th>tipo</th>\n",
              "      <th>observacao</th>\n",
              "      <th>natureza</th>\n",
              "      <th>situacaoDiscente</th>\n",
              "      <th>nomeTuma</th>\n",
              "      <th>codigoCurriculoSie</th>\n",
              "    </tr>\n",
              "  </thead>\n",
              "  <tbody>\n",
              "    <tr>\n",
              "      <th>2</th>\n",
              "      <td>1</td>\n",
              "      <td>CI1055</td>\n",
              "      <td>ALGORITMOS E ESTRUTURAS DE DADOS 1</td>\n",
              "      <td>2</td>\n",
              "      <td>2019</td>\n",
              "      <td>Sim</td>\n",
              "      <td>60</td>\n",
              "      <td>11</td>\n",
              "      <td>76</td>\n",
              "      <td>R-nota</td>\n",
              "      <td>TURMA</td>\n",
              "      <td>NaN</td>\n",
              "      <td>Obrigatória</td>\n",
              "      <td>Registro ativo</td>\n",
              "      <td>B</td>\n",
              "      <td>21A</td>\n",
              "    </tr>\n",
              "    <tr>\n",
              "      <th>6</th>\n",
              "      <td>1</td>\n",
              "      <td>CI1055</td>\n",
              "      <td>ALGORITMOS E ESTRUTURAS DE DADOS 1</td>\n",
              "      <td>2</td>\n",
              "      <td>2021</td>\n",
              "      <td>Sim</td>\n",
              "      <td>60</td>\n",
              "      <td>21</td>\n",
              "      <td>80</td>\n",
              "      <td>R-nota</td>\n",
              "      <td>TURMA</td>\n",
              "      <td>NaN</td>\n",
              "      <td>Obrigatória</td>\n",
              "      <td>Registro ativo</td>\n",
              "      <td>D</td>\n",
              "      <td>21A</td>\n",
              "    </tr>\n",
              "    <tr>\n",
              "      <th>13</th>\n",
              "      <td>5</td>\n",
              "      <td>CI055</td>\n",
              "      <td>ALGORITMOS E ESTRUTURAS DE DADOS I</td>\n",
              "      <td>1</td>\n",
              "      <td>2016</td>\n",
              "      <td>Não</td>\n",
              "      <td>60</td>\n",
              "      <td>1</td>\n",
              "      <td>83</td>\n",
              "      <td>R-nota</td>\n",
              "      <td>TURMA</td>\n",
              "      <td>NaN</td>\n",
              "      <td>-</td>\n",
              "      <td>Registro ativo</td>\n",
              "      <td>D</td>\n",
              "      <td>21A</td>\n",
              "    </tr>\n",
              "    <tr>\n",
              "      <th>14</th>\n",
              "      <td>5</td>\n",
              "      <td>CI055</td>\n",
              "      <td>ALGORITMOS E ESTRUTURAS DE DADOS I</td>\n",
              "      <td>2</td>\n",
              "      <td>2016</td>\n",
              "      <td>Não</td>\n",
              "      <td>60</td>\n",
              "      <td>29</td>\n",
              "      <td>86</td>\n",
              "      <td>R-nota</td>\n",
              "      <td>TURMA</td>\n",
              "      <td>NaN</td>\n",
              "      <td>-</td>\n",
              "      <td>Registro ativo</td>\n",
              "      <td>C</td>\n",
              "      <td>21A</td>\n",
              "    </tr>\n",
              "    <tr>\n",
              "      <th>19</th>\n",
              "      <td>7</td>\n",
              "      <td>CI055</td>\n",
              "      <td>ALGORITMOS E ESTRUTURAS DE DADOS I</td>\n",
              "      <td>1</td>\n",
              "      <td>2018</td>\n",
              "      <td>Não</td>\n",
              "      <td>60</td>\n",
              "      <td>1</td>\n",
              "      <td>93</td>\n",
              "      <td>R-nota</td>\n",
              "      <td>TURMA</td>\n",
              "      <td>NaN</td>\n",
              "      <td>-</td>\n",
              "      <td>Registro ativo</td>\n",
              "      <td>D</td>\n",
              "      <td>21A</td>\n",
              "    </tr>\n",
              "    <tr>\n",
              "      <th>...</th>\n",
              "      <td>...</td>\n",
              "      <td>...</td>\n",
              "      <td>...</td>\n",
              "      <td>...</td>\n",
              "      <td>...</td>\n",
              "      <td>...</td>\n",
              "      <td>...</td>\n",
              "      <td>...</td>\n",
              "      <td>...</td>\n",
              "      <td>...</td>\n",
              "      <td>...</td>\n",
              "      <td>...</td>\n",
              "      <td>...</td>\n",
              "      <td>...</td>\n",
              "      <td>...</td>\n",
              "      <td>...</td>\n",
              "    </tr>\n",
              "    <tr>\n",
              "      <th>873</th>\n",
              "      <td>552</td>\n",
              "      <td>CI055</td>\n",
              "      <td>ALGORITMOS E ESTRUTURAS DE DADOS I</td>\n",
              "      <td>1</td>\n",
              "      <td>2018</td>\n",
              "      <td>Não</td>\n",
              "      <td>60</td>\n",
              "      <td>27</td>\n",
              "      <td>100</td>\n",
              "      <td>R-nota</td>\n",
              "      <td>TURMA</td>\n",
              "      <td>NaN</td>\n",
              "      <td>-</td>\n",
              "      <td>Registro ativo</td>\n",
              "      <td>B</td>\n",
              "      <td>21A</td>\n",
              "    </tr>\n",
              "    <tr>\n",
              "      <th>884</th>\n",
              "      <td>558</td>\n",
              "      <td>CI055</td>\n",
              "      <td>ALGORITMOS E ESTRUTURAS DE DADOS I</td>\n",
              "      <td>1</td>\n",
              "      <td>2018</td>\n",
              "      <td>Não</td>\n",
              "      <td>60</td>\n",
              "      <td>30</td>\n",
              "      <td>96</td>\n",
              "      <td>R-nota</td>\n",
              "      <td>TURMA</td>\n",
              "      <td>NaN</td>\n",
              "      <td>-</td>\n",
              "      <td>Registro ativo</td>\n",
              "      <td>D</td>\n",
              "      <td>21A</td>\n",
              "    </tr>\n",
              "    <tr>\n",
              "      <th>893</th>\n",
              "      <td>563</td>\n",
              "      <td>CI1055</td>\n",
              "      <td>ALGORITMOS E ESTRUTURAS DE DADOS 1</td>\n",
              "      <td>2</td>\n",
              "      <td>2021</td>\n",
              "      <td>Sim</td>\n",
              "      <td>60</td>\n",
              "      <td>0</td>\n",
              "      <td>100</td>\n",
              "      <td>R-nota</td>\n",
              "      <td>TURMA</td>\n",
              "      <td>NaN</td>\n",
              "      <td>Obrigatória</td>\n",
              "      <td>Trancamento</td>\n",
              "      <td>A</td>\n",
              "      <td>21A</td>\n",
              "    </tr>\n",
              "    <tr>\n",
              "      <th>894</th>\n",
              "      <td>563</td>\n",
              "      <td>CI1055</td>\n",
              "      <td>ALGORITMOS E ESTRUTURAS DE DADOS 1</td>\n",
              "      <td>1</td>\n",
              "      <td>2022</td>\n",
              "      <td>Sim</td>\n",
              "      <td>60</td>\n",
              "      <td>0</td>\n",
              "      <td>100</td>\n",
              "      <td>R-nota</td>\n",
              "      <td>TURMA</td>\n",
              "      <td>NaN</td>\n",
              "      <td>Obrigatória</td>\n",
              "      <td>Trancamento</td>\n",
              "      <td>BCC1</td>\n",
              "      <td>21A</td>\n",
              "    </tr>\n",
              "    <tr>\n",
              "      <th>901</th>\n",
              "      <td>568</td>\n",
              "      <td>CI1055</td>\n",
              "      <td>ALGORITMOS E ESTRUTURAS DE DADOS 1</td>\n",
              "      <td>2</td>\n",
              "      <td>2020</td>\n",
              "      <td>Sim</td>\n",
              "      <td>60</td>\n",
              "      <td>47</td>\n",
              "      <td>100</td>\n",
              "      <td>R-nota</td>\n",
              "      <td>TURMA</td>\n",
              "      <td>NaN</td>\n",
              "      <td>Obrigatória</td>\n",
              "      <td>Registro ativo</td>\n",
              "      <td>A</td>\n",
              "      <td>21A</td>\n",
              "    </tr>\n",
              "  </tbody>\n",
              "</table>\n",
              "<p>162 rows × 16 columns</p>\n",
              "</div>\n",
              "      <button class=\"colab-df-convert\" onclick=\"convertToInteractive('df-eadb8852-1ddf-4e0f-85a7-57ab3666d900')\"\n",
              "              title=\"Convert this dataframe to an interactive table.\"\n",
              "              style=\"display:none;\">\n",
              "        \n",
              "  <svg xmlns=\"http://www.w3.org/2000/svg\" height=\"24px\"viewBox=\"0 0 24 24\"\n",
              "       width=\"24px\">\n",
              "    <path d=\"M0 0h24v24H0V0z\" fill=\"none\"/>\n",
              "    <path d=\"M18.56 5.44l.94 2.06.94-2.06 2.06-.94-2.06-.94-.94-2.06-.94 2.06-2.06.94zm-11 1L8.5 8.5l.94-2.06 2.06-.94-2.06-.94L8.5 2.5l-.94 2.06-2.06.94zm10 10l.94 2.06.94-2.06 2.06-.94-2.06-.94-.94-2.06-.94 2.06-2.06.94z\"/><path d=\"M17.41 7.96l-1.37-1.37c-.4-.4-.92-.59-1.43-.59-.52 0-1.04.2-1.43.59L10.3 9.45l-7.72 7.72c-.78.78-.78 2.05 0 2.83L4 21.41c.39.39.9.59 1.41.59.51 0 1.02-.2 1.41-.59l7.78-7.78 2.81-2.81c.8-.78.8-2.07 0-2.86zM5.41 20L4 18.59l7.72-7.72 1.47 1.35L5.41 20z\"/>\n",
              "  </svg>\n",
              "      </button>\n",
              "      \n",
              "  <style>\n",
              "    .colab-df-container {\n",
              "      display:flex;\n",
              "      flex-wrap:wrap;\n",
              "      gap: 12px;\n",
              "    }\n",
              "\n",
              "    .colab-df-convert {\n",
              "      background-color: #E8F0FE;\n",
              "      border: none;\n",
              "      border-radius: 50%;\n",
              "      cursor: pointer;\n",
              "      display: none;\n",
              "      fill: #1967D2;\n",
              "      height: 32px;\n",
              "      padding: 0 0 0 0;\n",
              "      width: 32px;\n",
              "    }\n",
              "\n",
              "    .colab-df-convert:hover {\n",
              "      background-color: #E2EBFA;\n",
              "      box-shadow: 0px 1px 2px rgba(60, 64, 67, 0.3), 0px 1px 3px 1px rgba(60, 64, 67, 0.15);\n",
              "      fill: #174EA6;\n",
              "    }\n",
              "\n",
              "    [theme=dark] .colab-df-convert {\n",
              "      background-color: #3B4455;\n",
              "      fill: #D2E3FC;\n",
              "    }\n",
              "\n",
              "    [theme=dark] .colab-df-convert:hover {\n",
              "      background-color: #434B5C;\n",
              "      box-shadow: 0px 1px 3px 1px rgba(0, 0, 0, 0.15);\n",
              "      filter: drop-shadow(0px 1px 2px rgba(0, 0, 0, 0.3));\n",
              "      fill: #FFFFFF;\n",
              "    }\n",
              "  </style>\n",
              "\n",
              "      <script>\n",
              "        const buttonEl =\n",
              "          document.querySelector('#df-eadb8852-1ddf-4e0f-85a7-57ab3666d900 button.colab-df-convert');\n",
              "        buttonEl.style.display =\n",
              "          google.colab.kernel.accessAllowed ? 'block' : 'none';\n",
              "\n",
              "        async function convertToInteractive(key) {\n",
              "          const element = document.querySelector('#df-eadb8852-1ddf-4e0f-85a7-57ab3666d900');\n",
              "          const dataTable =\n",
              "            await google.colab.kernel.invokeFunction('convertToInteractive',\n",
              "                                                     [key], {});\n",
              "          if (!dataTable) return;\n",
              "\n",
              "          const docLinkHtml = 'Like what you see? Visit the ' +\n",
              "            '<a target=\"_blank\" href=https://colab.research.google.com/notebooks/data_table.ipynb>data table notebook</a>'\n",
              "            + ' to learn more about interactive tables.';\n",
              "          element.innerHTML = '';\n",
              "          dataTable['output_type'] = 'display_data';\n",
              "          await google.colab.output.renderOutput(dataTable, element);\n",
              "          const docLink = document.createElement('div');\n",
              "          docLink.innerHTML = docLinkHtml;\n",
              "          element.appendChild(docLink);\n",
              "        }\n",
              "      </script>\n",
              "    </div>\n",
              "  </div>\n",
              "  "
            ]
          },
          "metadata": {},
          "execution_count": 45
        }
      ]
    },
    {
      "cell_type": "markdown",
      "source": [
        "##2.1. Média de Nota dos Reprovados por Nota no Período Total"
      ],
      "metadata": {
        "id": "e4PiRyzwuRDi"
      }
    },
    {
      "cell_type": "code",
      "source": [
        "mean_grades_disapproved = dSIGA_grades_disapproved['nota'].mean()\n",
        "mean_grades_disapproved"
      ],
      "metadata": {
        "colab": {
          "base_uri": "https://localhost:8080/"
        },
        "id": "cx3XsdkTsKY-",
        "outputId": "d72869e3-47aa-43d6-bc87-605368ed90da"
      },
      "execution_count": 40,
      "outputs": [
        {
          "output_type": "execute_result",
          "data": {
            "text/plain": [
              "22.037037037037038"
            ]
          },
          "metadata": {},
          "execution_count": 40
        }
      ]
    },
    {
      "cell_type": "markdown",
      "source": [
        "##2.2. Média de Nota dos Reprovados por Nota por Ano"
      ],
      "metadata": {
        "id": "VA_qTt-Ruegn"
      }
    },
    {
      "cell_type": "code",
      "source": [
        "dmean_grades_disapproved_yearly = dSIGA_grades_disapproved.groupby('ano')['nota'].mean()\n",
        "dmean_grades_disapproved_yearly.plot(kind='bar')"
      ],
      "metadata": {
        "colab": {
          "base_uri": "https://localhost:8080/",
          "height": 488
        },
        "id": "Y3rtj2Riuj6p",
        "outputId": "e117b161-5c4a-4a90-b609-e66d4fc15f72"
      },
      "execution_count": 42,
      "outputs": [
        {
          "output_type": "execute_result",
          "data": {
            "text/plain": [
              "<Axes: xlabel='ano'>"
            ]
          },
          "metadata": {},
          "execution_count": 42
        },
        {
          "output_type": "display_data",
          "data": {
            "text/plain": [
              "<Figure size 640x480 with 1 Axes>"
            ],
            "image/png": "[encoded data removed]"
          },
          "metadata": {}
        }
      ]
    },
    {
      "cell_type": "code",
      "source": [
        "dmean_grades_disapproved_yearly"
      ],
      "metadata": {
        "colab": {
          "base_uri": "https://localhost:8080/"
        },
        "id": "Yp98q3B0vrn4",
        "outputId": "e88c74d3-52e8-4383-aa5e-22fc4c962f06"
      },
      "execution_count": 43,
      "outputs": [
        {
          "output_type": "execute_result",
          "data": {
            "text/plain": [
              "ano\n",
              "2012    24.000000\n",
              "2013    30.000000\n",
              "2014    25.000000\n",
              "2015    19.833333\n",
              "2016    15.400000\n",
              "2017    25.904762\n",
              "2018    23.136364\n",
              "2019    23.321429\n",
              "2020    25.875000\n",
              "2021    19.589744\n",
              "2022    19.777778\n",
              "Name: nota, dtype: float64"
            ]
          },
          "metadata": {},
          "execution_count": 43
        }
      ]
    },
    {
      "cell_type": "markdown",
      "source": [
        "#3. Qual é a frequência dos reprovados por nota (período total e por ano)?"
      ],
      "metadata": {
        "id": "EoHdiXGcv9V6"
      }
    },
    {
      "cell_type": "markdown",
      "source": [
        "##3.1. Frequência dos Reprovados por Nota no Período Total"
      ],
      "metadata": {
        "id": "9X_O5i7OwFaM"
      }
    },
    {
      "cell_type": "code",
      "source": [
        "mean_freq_grades_disapproved = dSIGA_grades_disapproved['frequencia'].mean()\n",
        "mean_freq_grades_disapproved"
      ],
      "metadata": {
        "colab": {
          "base_uri": "https://localhost:8080/"
        },
        "id": "jpqy2Ua7wCXG",
        "outputId": "61d47ab1-bee6-4806-a49b-af180fd632d2"
      },
      "execution_count": 46,
      "outputs": [
        {
          "output_type": "execute_result",
          "data": {
            "text/plain": [
              "93.85802469135803"
            ]
          },
          "metadata": {},
          "execution_count": 46
        }
      ]
    },
    {
      "cell_type": "markdown",
      "source": [
        "##3.2. Frequência dos Reprovados por Nota por Ano"
      ],
      "metadata": {
        "id": "ZRUN7WgkxH3g"
      }
    },
    {
      "cell_type": "code",
      "source": [
        "dmean_freq_grades_disapproved_yearly = dSIGA_grades_disapproved.groupby('ano')['frequencia'].mean()\n",
        "dmean_freq_grades_disapproved_yearly.plot(kind='bar')"
      ],
      "metadata": {
        "colab": {
          "base_uri": "https://localhost:8080/",
          "height": 488
        },
        "id": "wXfGxNiQxGPh",
        "outputId": "583bbced-6c22-4944-ecaa-7f82ebe71577"
      },
      "execution_count": 49,
      "outputs": [
        {
          "output_type": "execute_result",
          "data": {
            "text/plain": [
              "<Axes: xlabel='ano'>"
            ]
          },
          "metadata": {},
          "execution_count": 49
        },
        {
          "output_type": "display_data",
          "data": {
            "text/plain": [
              "<Figure size 640x480 with 1 Axes>"
            ],
            "image/png": "[encoded data removed]"
          },
          "metadata": {}
        }
      ]
    },
    {
      "cell_type": "code",
      "source": [
        "dmean_freq_grades_disapproved_yearly"
      ],
      "metadata": {
        "colab": {
          "base_uri": "https://localhost:8080/"
        },
        "id": "MQL_aWqnxfwa",
        "outputId": "c7080b8a-2530-4b58-ad44-f4180560f0fd"
      },
      "execution_count": 50,
      "outputs": [
        {
          "output_type": "execute_result",
          "data": {
            "text/plain": [
              "ano\n",
              "2012     98.000000\n",
              "2013    100.000000\n",
              "2014     90.000000\n",
              "2015     94.666667\n",
              "2016     86.200000\n",
              "2017     93.666667\n",
              "2018     93.454545\n",
              "2019     90.892857\n",
              "2020     96.125000\n",
              "2021     94.923077\n",
              "2022     95.592593\n",
              "Name: frequencia, dtype: float64"
            ]
          },
          "metadata": {},
          "execution_count": 50
        }
      ]
    },
    {
      "cell_type": "markdown",
      "source": [
        "#4. Qual a porcentagem de evasões (total e anual)?"
      ],
      "metadata": {
        "id": "EXuuWlgeyZ44"
      }
    },
    {
      "cell_type": "code",
      "source": [
        "dSIGA['situacaoDiscente'].value_counts()"
      ],
      "metadata": {
        "colab": {
          "base_uri": "https://localhost:8080/"
        },
        "id": "aPVHa2dxyue5",
        "outputId": "493b6432-b9f6-418a-b1fb-1b8880545c58"
      },
      "execution_count": 51,
      "outputs": [
        {
          "output_type": "execute_result",
          "data": {
            "text/plain": [
              "Registro ativo         610\n",
              "Evasão                 142\n",
              "Conclusão formatura    103\n",
              "Trancamento             54\n",
              "Name: situacaoDiscente, dtype: int64"
            ]
          },
          "metadata": {},
          "execution_count": 51
        }
      ]
    },
    {
      "cell_type": "markdown",
      "source": [
        "##4.1. Porcentagem de Evasão Total "
      ],
      "metadata": {
        "id": "CfBXQBMFy_Xd"
      }
    },
    {
      "cell_type": "code",
      "source": [
        "dSIGA_truancy = dSIGA[dSIGA['situacaoDiscente'] == 'Evasão']\n",
        "truancy_percentage = (dSIGA_truancy['situacaoDiscente'].count()/dSIGA['situacaoDiscente'].count())*100\n",
        "truancy_percentage"
      ],
      "metadata": {
        "colab": {
          "base_uri": "https://localhost:8080/"
        },
        "id": "hNoUg1eCy_nx",
        "outputId": "2e2f2a4b-cc77-4fb7-9fde-1968207e46fb"
      },
      "execution_count": 53,
      "outputs": [
        {
          "output_type": "execute_result",
          "data": {
            "text/plain": [
              "15.62156215621562"
            ]
          },
          "metadata": {},
          "execution_count": 53
        }
      ]
    },
    {
      "cell_type": "markdown",
      "source": [
        "##4.2. Porcentagem de Evasão Anual"
      ],
      "metadata": {
        "id": "33UC-ori0R_-"
      }
    },
    {
      "cell_type": "code",
      "source": [
        "truancy_percentage_yearly = (dSIGA_truancy.groupby('ano')['situacaoDiscente'].count()/dSIGA.groupby('ano')['situacaoDiscente'].count())*100\n",
        "truancy_percentage_yearly.plot(kind='bar')"
      ],
      "metadata": {
        "colab": {
          "base_uri": "https://localhost:8080/",
          "height": 488
        },
        "id": "4tAcI-bP0Xrb",
        "outputId": "066f0573-70e2-4b96-cd36-eb287945555d"
      },
      "execution_count": 56,
      "outputs": [
        {
          "output_type": "execute_result",
          "data": {
            "text/plain": [
              "<Axes: xlabel='ano'>"
            ]
          },
          "metadata": {},
          "execution_count": 56
        },
        {
          "output_type": "display_data",
          "data": {
            "text/plain": [
              "<Figure size 640x480 with 1 Axes>"
            ],
            "image/png": "[encoded data removed]"
          },
          "metadata": {}
        }
      ]
    },
    {
      "cell_type": "code",
      "source": [
        "truancy_percentage_yearly"
      ],
      "metadata": {
        "colab": {
          "base_uri": "https://localhost:8080/"
        },
        "id": "kqCEUFx116bu",
        "outputId": "3ec85d19-5407-400b-f6b9-3ad3f12a235a"
      },
      "execution_count": 57,
      "outputs": [
        {
          "output_type": "execute_result",
          "data": {
            "text/plain": [
              "ano\n",
              "2011          NaN\n",
              "2012          NaN\n",
              "2013    63.636364\n",
              "2014    23.076923\n",
              "2015    20.000000\n",
              "2016    15.094340\n",
              "2017    18.478261\n",
              "2018    22.916667\n",
              "2019    16.386555\n",
              "2020    17.924528\n",
              "2021    12.318841\n",
              "2022     2.459016\n",
              "Name: situacaoDiscente, dtype: float64"
            ]
          },
          "metadata": {},
          "execution_count": 57
        }
      ]
    },
    {
      "cell_type": "markdown",
      "source": [
        "#5. Como os anos de pandemia impactaram no rendimento dos estudantes em relação aos anos anteriores, considerando o rendimento dos aprovados, a taxa de cancelamento e as reprovações? Considere como anos de pandemia os anos de 2020 e 2021."
      ],
      "metadata": {
        "id": "tE4Zp_S72IzX"
      }
    },
    {
      "cell_type": "markdown",
      "source": [
        "Antes de dar continuidade com a justificativa para essa questão, se faz necessário avaliar alguns dados extras que não foram avaliados nas questões anteriores:"
      ],
      "metadata": {
        "id": "hVpk72_p2g_h"
      }
    },
    {
      "cell_type": "code",
      "source": [
        "dSIGA_adjusted['ano'].value_counts().sort_index().plot(kind='bar')"
      ],
      "metadata": {
        "colab": {
          "base_uri": "https://localhost:8080/",
          "height": 468
        },
        "id": "9KhcB6KvFR_p",
        "outputId": "a4059ee2-044d-440b-e0fe-ee3d1a57d758"
      },
      "execution_count": 111,
      "outputs": [
        {
          "output_type": "execute_result",
          "data": {
            "text/plain": [
              "<Axes: >"
            ]
          },
          "metadata": {},
          "execution_count": 111
        },
        {
          "output_type": "display_data",
          "data": {
            "text/plain": [
              "<Figure size 640x480 with 1 Axes>"
            ],
            "image/png": "[encoded data removed]"
          },
          "metadata": {}
        }
      ]
    },
    {
      "cell_type": "code",
      "source": [
        "dSIGA_r_freq = dSIGA_adjusted[dSIGA_adjusted['status'] == 'Aprovado']\n",
        "dSIGA_r_freq['ano'].value_counts().sort_index().plot(kind='bar')"
      ],
      "metadata": {
        "colab": {
          "base_uri": "https://localhost:8080/",
          "height": 468
        },
        "id": "ihZ0ubIF7Sf5",
        "outputId": "87fda35a-f44d-4252-989a-d660dcd9d265"
      },
      "execution_count": 110,
      "outputs": [
        {
          "output_type": "execute_result",
          "data": {
            "text/plain": [
              "<Axes: >"
            ]
          },
          "metadata": {},
          "execution_count": 110
        },
        {
          "output_type": "display_data",
          "data": {
            "text/plain": [
              "<Figure size 640x480 with 1 Axes>"
            ],
            "image/png": "[encoded data removed]"
          },
          "metadata": {}
        }
      ]
    },
    {
      "cell_type": "code",
      "source": [
        "dSIGA_canceled = dSIGA_adjusted[dSIGA_adjusted['status'] == 'Cancelado']\n",
        "dSIGA_canceled['ano'].value_counts('ano').sort_index().plot(kind='bar')"
      ],
      "metadata": {
        "colab": {
          "base_uri": "https://localhost:8080/",
          "height": 468
        },
        "id": "ncMzKHiF2_DS",
        "outputId": "ee5d3d03-3a8a-4b4a-9ec8-9ef8554f0a93"
      },
      "execution_count": 88,
      "outputs": [
        {
          "output_type": "execute_result",
          "data": {
            "text/plain": [
              "<Axes: >"
            ]
          },
          "metadata": {},
          "execution_count": 88
        },
        {
          "output_type": "display_data",
          "data": {
            "text/plain": [
              "<Figure size 640x480 with 1 Axes>"
            ],
            "image/png": "[encoded data removed]"
          },
          "metadata": {}
        }
      ]
    },
    {
      "cell_type": "code",
      "source": [
        "dSIGA_r_freq = dSIGA_adjusted[dSIGA_adjusted['status'] == 'R-freq']\n",
        "dSIGA_r_freq['ano'].value_counts().sort_index().plot(kind='bar')"
      ],
      "metadata": {
        "colab": {
          "base_uri": "https://localhost:8080/",
          "height": 468
        },
        "id": "NSib1ttA5ts2",
        "outputId": "e1b7c617-cc20-453a-d58a-c9f8157ec9de"
      },
      "execution_count": 91,
      "outputs": [
        {
          "output_type": "execute_result",
          "data": {
            "text/plain": [
              "<Axes: >"
            ]
          },
          "metadata": {},
          "execution_count": 91
        },
        {
          "output_type": "display_data",
          "data": {
            "text/plain": [
              "<Figure size 640x480 with 1 Axes>"
            ],
            "image/png": "[encoded data removed]"
          },
          "metadata": {}
        }
      ]
    },
    {
      "cell_type": "code",
      "source": [
        "dSIGA_r_nota = dSIGA_adjusted[dSIGA_adjusted['status'] == 'R-nota']\n",
        "dSIGA_r_nota['ano'].value_counts().sort_index().plot(kind='bar')"
      ],
      "metadata": {
        "colab": {
          "base_uri": "https://localhost:8080/",
          "height": 468
        },
        "id": "wjBapeiw7GaS",
        "outputId": "83e00b95-3816-44a4-f4b1-d2589834e503"
      },
      "execution_count": 92,
      "outputs": [
        {
          "output_type": "execute_result",
          "data": {
            "text/plain": [
              "<Axes: >"
            ]
          },
          "metadata": {},
          "execution_count": 92
        },
        {
          "output_type": "display_data",
          "data": {
            "text/plain": [
              "<Figure size 640x480 with 1 Axes>"
            ],
            "image/png": "[encoded data removed]"
          },
          "metadata": {}
        }
      ]
    },
    {
      "cell_type": "markdown",
      "source": [
        "Analisando todos os dados levantados até então, podemos dizer que a reprovação por frequência e por nota em 2020 teve uma queda significativa, apesar da porcentagem de aprovados por ano não ter diferido muito dos anos anteriores, devido ao grande aumento de cancelamentos neste mesmo ano."
      ],
      "metadata": {
        "id": "CT2jfoDfALvC"
      }
    },
    {
      "cell_type": "markdown",
      "source": [
        "#6. Compare a volta às aulas híbrida (2022 período 1) com os anos de pandemia e os anos anteriores."
      ],
      "metadata": {
        "id": "6zHGTXD1G8Cx"
      }
    },
    {
      "cell_type": "markdown",
      "source": [
        "Para comparar o período 2022.1 com o período total, farei as mesmas medidas consideradas nos exercícios anteriores. "
      ],
      "metadata": {
        "id": "F5X8h0FiM2H-"
      }
    },
    {
      "cell_type": "code",
      "source": [
        "dSIGA_2022 = dSIGA_adjusted[dSIGA_adjusted['ano'] == 2022]\n",
        "dSIGA_2022_1 = dSIGA_2022[dSIGA_2022['periodo'] == '1']"
      ],
      "metadata": {
        "id": "0zfY14Bg7KyU"
      },
      "execution_count": 121,
      "outputs": []
    },
    {
      "cell_type": "code",
      "source": [
        "is_approved_2022_1 = dSIGA_2022_1['status'] == 'Aprovado'\n",
        "mean_grades_approved_2022_1 = dSIGA_2022_1[is_approved_2022_1]['nota'].mean()\n",
        "mean_grades_approved_2022_1 60.02"
      ],
      "metadata": {
        "colab": {
          "base_uri": "https://localhost:8080/"
        },
        "id": "1ijlPFHyJHex",
        "outputId": "d93cf502-c60b-4773-db1e-812c065285fa"
      },
      "execution_count": 122,
      "outputs": [
        {
          "output_type": "execute_result",
          "data": {
            "text/plain": [
              "76.42857142857143"
            ]
          },
          "metadata": {},
          "execution_count": 122
        }
      ]
    },
    {
      "cell_type": "code",
      "source": [
        "is_grades_disapproved_2022_1 = dSIGA_2022_1['status'] == 'R-nota'\n",
        "mean_grades_disapproved_2022_1 = dSIGA_2022_1[is_grades_disapproved_2022_1]['nota'].mean()\n",
        "mean_grades_disapproved_2022_1 22.04"
      ],
      "metadata": {
        "colab": {
          "base_uri": "https://localhost:8080/"
        },
        "id": "PO6S6LSOKV0U",
        "outputId": "21729dd6-3d53-4c96-f951-7e17f43fd3f0"
      },
      "execution_count": 123,
      "outputs": [
        {
          "output_type": "execute_result",
          "data": {
            "text/plain": [
              "19.77777777777778"
            ]
          },
          "metadata": {},
          "execution_count": 123
        }
      ]
    },
    {
      "cell_type": "code",
      "source": [
        "mean_freq_grades_disapproved_2022_1 = dSIGA_2022_1[is_grades_disapproved_2022_1]['frequencia'].mean()\n",
        "mean_freq_grades_disapproved_2022_1 93.85"
      ],
      "metadata": {
        "colab": {
          "base_uri": "https://localhost:8080/"
        },
        "id": "8y6LWfuOKuk8",
        "outputId": "ac84a1ee-67db-4525-b79c-edf5bc3925d6"
      },
      "execution_count": 124,
      "outputs": [
        {
          "output_type": "execute_result",
          "data": {
            "text/plain": [
              "95.5925925925926"
            ]
          },
          "metadata": {},
          "execution_count": 124
        }
      ]
    },
    {
      "cell_type": "code",
      "source": [
        "dSIGA_truancy_2022_1 = dSIGA_2022_1[dSIGA_2022_1['situacaoDiscente'] == 'Evasão']\n",
        "truancy_percentage_2022_1 = (dSIGA_truancy_2022_1['situacaoDiscente'].count()/dSIGA_2022_1['situacaoDiscente'].count())*100\n",
        "truancy_percentage_2022_1"
      ],
      "metadata": {
        "colab": {
          "base_uri": "https://localhost:8080/"
        },
        "id": "vMEByglTLE6b",
        "outputId": "9b5309df-c774-4da0-8dd7-bd7f826459ad"
      },
      "execution_count": 125,
      "outputs": [
        {
          "output_type": "execute_result",
          "data": {
            "text/plain": [
              "3.1578947368421053"
            ]
          },
          "metadata": {},
          "execution_count": 125
        }
      ]
    },
    {
      "cell_type": "markdown",
      "source": [
        "Com esses dados para 2022.1, podemos dizer que, em média, os alunos tiveram uma melhora de desempenho com a volta as aulas no modelo híbrido em relação ao período total. Digo isto pois a nota média dos aprovados se elevou significativamente, a frequência dos desaprovados foram maior(apesar de ter tido uma pequena queda na nota média entre os desaprovados) e a evasão de alunos diminui drasticamente."
      ],
      "metadata": {
        "id": "xm4kdKkMMDwM"
      }
    },
    {
      "cell_type": "markdown",
      "source": [
        "#7. Compare a volta às aulas presencial (2022 período 2) com a volta híbrida do item anterior."
      ],
      "metadata": {
        "id": "ZcEO-rMgPuwE"
      }
    },
    {
      "cell_type": "code",
      "source": [
        "dSIGA_2022 = dSIGA_adjusted[dSIGA_adjusted['ano'] == 2022]\n",
        "dSIGA_2022_2 = dSIGA_2022[dSIGA_2022['periodo'] == '2']\n",
        "dSIGA_2022_2['status'].value_counts()"
      ],
      "metadata": {
        "colab": {
          "base_uri": "https://localhost:8080/"
        },
        "id": "-mY6gOMqP60X",
        "outputId": "4d6e17e2-3627-4d84-f983-17aedb06d412"
      },
      "execution_count": 137,
      "outputs": [
        {
          "output_type": "execute_result",
          "data": {
            "text/plain": [
              "Matriculado    27\n",
              "Name: status, dtype: int64"
            ]
          },
          "metadata": {},
          "execution_count": 137
        }
      ]
    },
    {
      "cell_type": "code",
      "source": [
        "dSIGA_2022_2['nota'].value_counts()"
      ],
      "metadata": {
        "colab": {
          "base_uri": "https://localhost:8080/"
        },
        "id": "sXMUdejdSA8r",
        "outputId": "d18fce67-1b93-4254-e6c5-a52497ab1e8b"
      },
      "execution_count": 136,
      "outputs": [
        {
          "output_type": "execute_result",
          "data": {
            "text/plain": [
              "0    27\n",
              "Name: nota, dtype: int64"
            ]
          },
          "metadata": {},
          "execution_count": 136
        }
      ]
    },
    {
      "cell_type": "code",
      "source": [
        "is_approved_2022_2 = dSIGA_2022_2['status'] == 'Aprovado'\n",
        "mean_grades_approved_2022_2 = dSIGA_2022_2[is_approved_2022_2]['nota'].mean()\n",
        "mean_grades_approved_2022_2"
      ],
      "metadata": {
        "colab": {
          "base_uri": "https://localhost:8080/"
        },
        "outputId": "4ef1d61d-0a45-470f-9e38-814ff683e363",
        "id": "MbHl6iMzQD00"
      },
      "execution_count": 130,
      "outputs": [
        {
          "output_type": "execute_result",
          "data": {
            "text/plain": [
              "nan"
            ]
          },
          "metadata": {},
          "execution_count": 130
        }
      ]
    },
    {
      "cell_type": "code",
      "source": [
        "is_grades_disapproved_2022_2 = dSIGA_2022_2['status'] == 'R-nota'\n",
        "mean_grades_disapproved_2022_2 = dSIGA_2022_2[is_grades_disapproved_2022_2]['nota'].mean()\n",
        "mean_grades_disapproved_2022_2"
      ],
      "metadata": {
        "colab": {
          "base_uri": "https://localhost:8080/"
        },
        "outputId": "57c580f5-47b7-49f8-eabf-30d3a12c8481",
        "id": "1zpIGDB-QD01"
      },
      "execution_count": 128,
      "outputs": [
        {
          "output_type": "execute_result",
          "data": {
            "text/plain": [
              "nan"
            ]
          },
          "metadata": {},
          "execution_count": 128
        }
      ]
    },
    {
      "cell_type": "code",
      "source": [
        "mean_freq_grades_disapproved_2022_2 = dSIGA_2022_2[is_grades_disapproved_2022_2]['frequencia'].mean()\n",
        "mean_freq_grades_disapproved_2022_2"
      ],
      "metadata": {
        "colab": {
          "base_uri": "https://localhost:8080/"
        },
        "outputId": "ca93258a-306b-4b5e-b38c-9d6f6ced50be",
        "id": "srk6-EjAQD01"
      },
      "execution_count": 132,
      "outputs": [
        {
          "output_type": "execute_result",
          "data": {
            "text/plain": [
              "nan"
            ]
          },
          "metadata": {},
          "execution_count": 132
        }
      ]
    },
    {
      "cell_type": "code",
      "source": [
        "dSIGA_truancy_2022_2 = dSIGA_2022_2[dSIGA_2022_2['situacaoDiscente'] == 'Evasão']\n",
        "truancy_percentage_2022_2 = (dSIGA_truancy_2022_2['situacaoDiscente'].count()/dSIGA_2022_2['situacaoDiscente'].count())*100\n",
        "truancy_percentage_2022_2"
      ],
      "metadata": {
        "colab": {
          "base_uri": "https://localhost:8080/"
        },
        "outputId": "409aa97f-6154-4252-f532-30e9491c4590",
        "id": "HB3XJSDuQD01"
      },
      "execution_count": 133,
      "outputs": [
        {
          "output_type": "execute_result",
          "data": {
            "text/plain": [
              "0.0"
            ]
          },
          "metadata": {},
          "execution_count": 133
        }
      ]
    },
    {
      "cell_type": "markdown",
      "source": [
        "O status de todos os alunos de 2022.2 estão como \"Matriculado\" e suas notas são \"0\", o que dá a entender que esta base não tem o ano letivo de 2022.2 como concluído ainda, e assim não é possível analisar e fazer a comparação com o ano de 2022.1."
      ],
      "metadata": {
        "id": "j5KUw5M-RHxv"
      }
    }
  ]
}